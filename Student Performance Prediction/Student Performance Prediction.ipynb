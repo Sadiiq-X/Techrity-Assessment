{
 "cells": [
  {
   "cell_type": "markdown",
   "id": "a04916a6-dcce-4700-a01e-e7dfc9cb98c4",
   "metadata": {},
   "source": [
    "**LOADING LIBRARIES**"
   ]
  },
  {
   "cell_type": "code",
   "execution_count": 128,
   "id": "405e9ca1-fe9d-4bca-850c-1b55108ff96c",
   "metadata": {},
   "outputs": [],
   "source": [
    "import pandas as pd\n",
    "import numpy as np\n",
    "import matplotlib.pyplot as plt\n",
    "import seaborn as sns\n",
    "\n",
    "# For model building\n",
    "import torch\n",
    "import torch.nn as nn\n",
    "from torch.utils.data import Dataset, DataLoader, random_split\n",
    "\n",
    "# For evaluation\n",
    "from sklearn.metrics import classification_report, confusion_matrix, roc_auc_score, roc_curve\n",
    "from sklearn.model_selection import train_test_split\n",
    "from sklearn.preprocessing import StandardScaler, LabelEncoder\n"
   ]
  },
  {
   "cell_type": "markdown",
   "id": "b12a341d-2fd8-44cf-af00-c8f05c3fb142",
   "metadata": {},
   "source": [
    "****LOADING DATA****"
   ]
  },
  {
   "cell_type": "code",
   "execution_count": 130,
   "id": "ac4225a9-5dad-4072-b74a-cd2886bfc628",
   "metadata": {},
   "outputs": [
    {
     "data": {
      "text/html": [
       "<div>\n",
       "<style scoped>\n",
       "    .dataframe tbody tr th:only-of-type {\n",
       "        vertical-align: middle;\n",
       "    }\n",
       "\n",
       "    .dataframe tbody tr th {\n",
       "        vertical-align: top;\n",
       "    }\n",
       "\n",
       "    .dataframe thead th {\n",
       "        text-align: right;\n",
       "    }\n",
       "</style>\n",
       "<table border=\"1\" class=\"dataframe\">\n",
       "  <thead>\n",
       "    <tr style=\"text-align: right;\">\n",
       "      <th></th>\n",
       "      <th>Student_ID</th>\n",
       "      <th>Gender</th>\n",
       "      <th>Study_Hours_per_Week</th>\n",
       "      <th>Attendance_Rate</th>\n",
       "      <th>Past_Exam_Scores</th>\n",
       "      <th>Parental_Education_Level</th>\n",
       "      <th>Internet_Access_at_Home</th>\n",
       "      <th>Extracurricular_Activities</th>\n",
       "      <th>Final_Exam_Score</th>\n",
       "      <th>Pass_Fail</th>\n",
       "    </tr>\n",
       "  </thead>\n",
       "  <tbody>\n",
       "    <tr>\n",
       "      <th>0</th>\n",
       "      <td>S147</td>\n",
       "      <td>Male</td>\n",
       "      <td>31</td>\n",
       "      <td>68.267841</td>\n",
       "      <td>86</td>\n",
       "      <td>High School</td>\n",
       "      <td>Yes</td>\n",
       "      <td>Yes</td>\n",
       "      <td>63</td>\n",
       "      <td>Pass</td>\n",
       "    </tr>\n",
       "    <tr>\n",
       "      <th>1</th>\n",
       "      <td>S136</td>\n",
       "      <td>Male</td>\n",
       "      <td>16</td>\n",
       "      <td>78.222927</td>\n",
       "      <td>73</td>\n",
       "      <td>PhD</td>\n",
       "      <td>No</td>\n",
       "      <td>No</td>\n",
       "      <td>50</td>\n",
       "      <td>Fail</td>\n",
       "    </tr>\n",
       "    <tr>\n",
       "      <th>2</th>\n",
       "      <td>S209</td>\n",
       "      <td>Female</td>\n",
       "      <td>21</td>\n",
       "      <td>87.525096</td>\n",
       "      <td>74</td>\n",
       "      <td>PhD</td>\n",
       "      <td>Yes</td>\n",
       "      <td>No</td>\n",
       "      <td>55</td>\n",
       "      <td>Fail</td>\n",
       "    </tr>\n",
       "    <tr>\n",
       "      <th>3</th>\n",
       "      <td>S458</td>\n",
       "      <td>Female</td>\n",
       "      <td>27</td>\n",
       "      <td>92.076483</td>\n",
       "      <td>99</td>\n",
       "      <td>Bachelors</td>\n",
       "      <td>No</td>\n",
       "      <td>No</td>\n",
       "      <td>65</td>\n",
       "      <td>Pass</td>\n",
       "    </tr>\n",
       "    <tr>\n",
       "      <th>4</th>\n",
       "      <td>S078</td>\n",
       "      <td>Female</td>\n",
       "      <td>37</td>\n",
       "      <td>98.655517</td>\n",
       "      <td>63</td>\n",
       "      <td>Masters</td>\n",
       "      <td>No</td>\n",
       "      <td>Yes</td>\n",
       "      <td>70</td>\n",
       "      <td>Pass</td>\n",
       "    </tr>\n",
       "  </tbody>\n",
       "</table>\n",
       "</div>"
      ],
      "text/plain": [
       "  Student_ID  Gender  Study_Hours_per_Week  Attendance_Rate  Past_Exam_Scores  \\\n",
       "0       S147    Male                    31        68.267841                86   \n",
       "1       S136    Male                    16        78.222927                73   \n",
       "2       S209  Female                    21        87.525096                74   \n",
       "3       S458  Female                    27        92.076483                99   \n",
       "4       S078  Female                    37        98.655517                63   \n",
       "\n",
       "  Parental_Education_Level Internet_Access_at_Home Extracurricular_Activities  \\\n",
       "0              High School                     Yes                        Yes   \n",
       "1                      PhD                      No                         No   \n",
       "2                      PhD                     Yes                         No   \n",
       "3                Bachelors                      No                         No   \n",
       "4                  Masters                      No                        Yes   \n",
       "\n",
       "   Final_Exam_Score Pass_Fail  \n",
       "0                63      Pass  \n",
       "1                50      Fail  \n",
       "2                55      Fail  \n",
       "3                65      Pass  \n",
       "4                70      Pass  "
      ]
     },
     "execution_count": 130,
     "metadata": {},
     "output_type": "execute_result"
    }
   ],
   "source": [
    "# Load data\n",
    "df = pd.read_csv(\"C:\\\\Users\\\\user\\\\Downloads\\\\student_performance_dataset.csv\")  \n",
    "\n",
    "# Preview the data\n",
    "df.head()"
   ]
  },
  {
   "cell_type": "markdown",
   "id": "ac4ef9b9-2d6c-40ca-880b-bfb53c917428",
   "metadata": {},
   "source": [
    "**EXPLORATORY DATA ANALYSIS**"
   ]
  },
  {
   "cell_type": "code",
   "execution_count": 132,
   "id": "75e4377b-b22a-4f0b-a654-0c3557be4fc5",
   "metadata": {},
   "outputs": [
    {
     "name": "stdout",
     "output_type": "stream",
     "text": [
      "Shape: (708, 10)\n",
      "<class 'pandas.core.frame.DataFrame'>\n",
      "RangeIndex: 708 entries, 0 to 707\n",
      "Data columns (total 10 columns):\n",
      " #   Column                      Non-Null Count  Dtype  \n",
      "---  ------                      --------------  -----  \n",
      " 0   Student_ID                  708 non-null    object \n",
      " 1   Gender                      708 non-null    object \n",
      " 2   Study_Hours_per_Week        708 non-null    int64  \n",
      " 3   Attendance_Rate             708 non-null    float64\n",
      " 4   Past_Exam_Scores            708 non-null    int64  \n",
      " 5   Parental_Education_Level    708 non-null    object \n",
      " 6   Internet_Access_at_Home     708 non-null    object \n",
      " 7   Extracurricular_Activities  708 non-null    object \n",
      " 8   Final_Exam_Score            708 non-null    int64  \n",
      " 9   Pass_Fail                   708 non-null    object \n",
      "dtypes: float64(1), int64(3), object(6)\n",
      "memory usage: 55.4+ KB\n",
      "\n",
      "Missing values:\n",
      " Student_ID                    0\n",
      "Gender                        0\n",
      "Study_Hours_per_Week          0\n",
      "Attendance_Rate               0\n",
      "Past_Exam_Scores              0\n",
      "Parental_Education_Level      0\n",
      "Internet_Access_at_Home       0\n",
      "Extracurricular_Activities    0\n",
      "Final_Exam_Score              0\n",
      "Pass_Fail                     0\n",
      "dtype: int64\n",
      "\n",
      "Pass_Fail\n",
      "Pass_Fail\n",
      "Pass    354\n",
      "Fail    354\n",
      "Name: count, dtype: int64\n"
     ]
    }
   ],
   "source": [
    "# Shape and basic info\n",
    "print(f\"Shape: {df.shape}\")\n",
    "df.info()\n",
    "\n",
    "# Check for missing values\n",
    "print(\"\\nMissing values:\\n\", df.isnull().sum())\n",
    "\n",
    "# Summary statistics\n",
    "df.describe()\n",
    "\n",
    "# Value counts of the target column \n",
    "print(\"\\nPass_Fail\")\n",
    "print(df['Pass_Fail'].value_counts())\n"
   ]
  },
  {
   "cell_type": "markdown",
   "id": "75285842-4dfb-41ea-ba71-2652848be417",
   "metadata": {},
   "source": [
    "**LABEL ENCODING**"
   ]
  },
  {
   "cell_type": "code",
   "execution_count": 134,
   "id": "e66ba6d2-f1e3-4122-8820-2cbca0f623d4",
   "metadata": {},
   "outputs": [
    {
     "name": "stdout",
     "output_type": "stream",
     "text": [
      "\n",
      "Encoded 'pass' label distribution:\n",
      "pass\n",
      "1    354\n",
      "0    354\n",
      "Name: count, dtype: int64\n"
     ]
    },
    {
     "data": {
      "image/png": "[encoded data removed]",
      "text/plain": [
       "<Figure size 640x480 with 1 Axes>"
      ]
     },
     "metadata": {},
     "output_type": "display_data"
    }
   ],
   "source": [
    "# Clean and convert 'Pass_Fail' to binary 1 (Pass) / 0 (Fail)\n",
    "df['pass'] = df['Pass_Fail'].str.strip().str.lower().map({'pass': 1, 'fail': 0})\n",
    "\n",
    "# Drop original 'Pass_Fail' column if it's no longer needed\n",
    "df.drop(columns=['Pass_Fail'], inplace=True)\n",
    "\n",
    "# Optional: Drop Student_ID if it's just an identifier\n",
    "df.drop(columns=['Student_ID'], inplace=True)\n",
    "\n",
    "# Confirm the distribution\n",
    "print(\"\\nEncoded 'pass' label distribution:\")\n",
    "print(df['pass'].value_counts())\n",
    "\n",
    "# Visualize\n",
    "sns.countplot(x='pass', data=df)\n",
    "plt.title(\"Pass vs Fail Distribution\")\n",
    "plt.xlabel(\"Pass (1) / Fail (0)\")\n",
    "plt.show()\n"
   ]
  },
  {
   "cell_type": "markdown",
   "id": "4802e48d-eb7f-4ac7-9963-1c37787d49bf",
   "metadata": {},
   "source": [
    "**Identifying categorical and numeric columns**"
   ]
  },
  {
   "cell_type": "code",
   "execution_count": 136,
   "id": "6659f8d2-fa54-4ccd-8054-408a3e6b2d2e",
   "metadata": {},
   "outputs": [
    {
     "name": "stdout",
     "output_type": "stream",
     "text": [
      "Categorical columns: ['Gender', 'Parental_Education_Level', 'Internet_Access_at_Home', 'Extracurricular_Activities']\n",
      "Numeric columns: ['Study_Hours_per_Week', 'Attendance_Rate', 'Past_Exam_Scores', 'Final_Exam_Score']\n"
     ]
    }
   ],
   "source": [
    "# Separating features and target\n",
    "X = df.drop(columns=['pass'])  # features\n",
    "y = df['pass']                 # target\n",
    "\n",
    "# Identifying categorical and numeric columns\n",
    "categorical_cols = X.select_dtypes(include='object').columns.tolist()\n",
    "numeric_cols = X.select_dtypes(include=['int64', 'float64']).columns.tolist()\n",
    "\n",
    "print(\"Categorical columns:\", categorical_cols)\n",
    "print(\"Numeric columns:\", numeric_cols)\n"
   ]
  },
  {
   "cell_type": "markdown",
   "id": "e6cd73d1-2b00-45aa-87fc-5b11870bb23c",
   "metadata": {},
   "source": [
    "**One-hot encode categoricals & scale numerics**"
   ]
  },
  {
   "cell_type": "code",
   "execution_count": 138,
   "id": "f2f42a94-6080-43ac-991a-edc366d7e4d7",
   "metadata": {},
   "outputs": [],
   "source": [
    "from sklearn.preprocessing import OneHotEncoder, StandardScaler\n",
    "from sklearn.compose import ColumnTransformer\n",
    "from sklearn.pipeline import Pipeline\n",
    "\n",
    "# Preprocessing pipeline\n",
    "preprocessor = ColumnTransformer([\n",
    "    ('cat', OneHotEncoder(handle_unknown='ignore'), categorical_cols),\n",
    "    ('num', StandardScaler(), numeric_cols)\n",
    "])\n"
   ]
  },
  {
   "cell_type": "markdown",
   "id": "4f7ed603-4fbf-4389-8228-fb5dc602d0ed",
   "metadata": {},
   "source": [
    "**Train-test split**"
   ]
  },
  {
   "cell_type": "code",
   "execution_count": 140,
   "id": "b18d821c-e43b-46af-aefb-939318474055",
   "metadata": {},
   "outputs": [],
   "source": [
    "from sklearn.model_selection import train_test_split\n",
    "\n",
    "# 80% train, 20% test\n",
    "X_train, X_test, y_train, y_test = train_test_split(\n",
    "    X, y, test_size=0.2, random_state=42, stratify=y)\n",
    "\n",
    "# Fit and transform\n",
    "X_train_processed = preprocessor.fit_transform(X_train)\n",
    "X_test_processed = preprocessor.transform(X_test)\n"
   ]
  },
  {
   "cell_type": "markdown",
   "id": "cef22665-c50f-4625-8d6d-9c419750b3bd",
   "metadata": {},
   "source": [
    "**Converting to numpy arrays**"
   ]
  },
  {
   "cell_type": "code",
   "execution_count": 142,
   "id": "6aa1c734-baaa-4be7-8bc5-8b6aa404c26c",
   "metadata": {},
   "outputs": [
    {
     "name": "stdout",
     "output_type": "stream",
     "text": [
      "Train shape: (566, 14)\n",
      "Test shape: (142, 14)\n"
     ]
    }
   ],
   "source": [
    "import numpy as np\n",
    "\n",
    "# Converting to numpy arrays \n",
    "X_train_np = X_train_processed\n",
    "X_test_np = X_test_processed\n",
    "\n",
    "# Converting labels to numpy arrays\n",
    "y_train_np = y_train.to_numpy()\n",
    "y_test_np = y_test.to_numpy()\n",
    "\n",
    "print(\"Train shape:\", X_train_np.shape)\n",
    "print(\"Test shape:\", X_test_np.shape)\n"
   ]
  },
  {
   "cell_type": "markdown",
   "id": "adecbbaa-5f33-4087-8ab7-7c6f3868651b",
   "metadata": {},
   "source": [
    "**Creating a PyTorch Dataset Class**"
   ]
  },
  {
   "cell_type": "code",
   "execution_count": 144,
   "id": "79b6877a-3477-45af-98b8-96d0bbf02617",
   "metadata": {},
   "outputs": [],
   "source": [
    "import torch\n",
    "from torch.utils.data import Dataset\n",
    "\n",
    "class StudentPerformanceDataset(Dataset):\n",
    "    def __init__(self, features, labels):\n",
    "        self.features = torch.tensor(features, dtype=torch.float32)  # Convert features to tensor\n",
    "        self.labels = torch.tensor(labels, dtype=torch.long)         # Convert labels to tensor\n",
    "\n",
    "    def __len__(self):\n",
    "        # Return the number of samples in the dataset\n",
    "        return len(self.features)\n",
    "\n",
    "    def __getitem__(self, idx):\n",
    "        # Return the feature and label at the given index\n",
    "        return self.features[idx], self.labels[idx]\n"
   ]
  },
  {
   "cell_type": "markdown",
   "id": "d5bbacad-2c70-4f5e-89ac-603c3dbba826",
   "metadata": {},
   "source": [
    "**Creating DataLoaders for Training and Testing**"
   ]
  },
  {
   "cell_type": "code",
   "execution_count": 146,
   "id": "f408e36d-28b6-4d29-ba96-ec03e386a33b",
   "metadata": {},
   "outputs": [
    {
     "name": "stdout",
     "output_type": "stream",
     "text": [
      "Batch features shape: torch.Size([32, 14])\n",
      "Batch labels shape: torch.Size([32])\n"
     ]
    }
   ],
   "source": [
    "from torch.utils.data import DataLoader\n",
    "\n",
    "# Creating Dataset instances\n",
    "train_dataset = StudentPerformanceDataset(X_train_np, y_train_np)\n",
    "test_dataset = StudentPerformanceDataset(X_test_np, y_test_np)\n",
    "\n",
    "# Creating DataLoader instances for batching and shuffling\n",
    "train_loader = DataLoader(train_dataset, batch_size=32, shuffle=True)\n",
    "test_loader = DataLoader(test_dataset, batch_size=32, shuffle=False)\n",
    "\n",
    "# Check batch data\n",
    "for batch_features, batch_labels in train_loader:\n",
    "    print(\"Batch features shape:\", batch_features.shape)\n",
    "    print(\"Batch labels shape:\", batch_labels.shape)\n",
    "    break  # Just print the first batch to check\n"
   ]
  },
  {
   "cell_type": "markdown",
   "id": "90f30d8b-9238-4cdd-a3d3-d468196e4ece",
   "metadata": {},
   "source": [
    "**Defining the Network in PyTorch**"
   ]
  },
  {
   "cell_type": "code",
   "execution_count": 77,
   "id": "34d86c7b-b517-4cda-9486-a5f68442f664",
   "metadata": {},
   "outputs": [],
   "source": [
    "import torch.nn as nn\n",
    "import torch.optim as optim\n",
    "\n",
    "# Define the Neural Network class\n",
    "class StudentPerformanceModel(nn.Module):\n",
    "    def __init__(self, input_dim):\n",
    "        super(StudentPerformanceModel, self).__init__()\n",
    "        self.layer1 = nn.Linear(input_dim, 64)  # First hidden layer (64 neurons)\n",
    "        self.layer2 = nn.Linear(64, 32)         # Second hidden layer (32 neurons)\n",
    "        self.output_layer = nn.Linear(32, 1)    # Output layer (1 neuron for binary classification)\n",
    "        self.sigmoid = nn.Sigmoid()             # Sigmoid activation function for output\n",
    "\n",
    "    def forward(self, x):\n",
    "        x = torch.relu(self.layer1(x))  # Apply ReLU activation to layer 1\n",
    "        x = torch.relu(self.layer2(x))  # Apply ReLU activation to layer 2\n",
    "        x = self.sigmoid(self.output_layer(x))  # Apply Sigmoid activation to the output layer\n",
    "        return x\n"
   ]
  },
  {
   "cell_type": "markdown",
   "id": "79450db3-f668-4496-9441-caae101f9569",
   "metadata": {},
   "source": [
    "**Set Up the Loss Function and Optimizer**"
   ]
  },
  {
   "cell_type": "code",
   "execution_count": 79,
   "id": "e3f260ee-5cdd-4cdf-8b9d-e66e3d8c6ba4",
   "metadata": {},
   "outputs": [],
   "source": [
    "# Initialize the model\n",
    "input_dim = X_train_np.shape[1]  # Number of input features\n",
    "model = StudentPerformanceModel(input_dim)\n",
    "\n",
    "# Loss function (binary cross-entropy)\n",
    "criterion = nn.BCEWithLogitsLoss()\n",
    "\n",
    "# Optimizer (Adam)\n",
    "optimizer = optim.Adam(model.parameters(), lr=0.001)\n"
   ]
  },
  {
   "cell_type": "markdown",
   "id": "2540932d-e561-4fe9-b8ad-6c12a7be0da7",
   "metadata": {},
   "source": [
    "**Training the Model with train data**"
   ]
  },
  {
   "cell_type": "code",
   "execution_count": 81,
   "id": "728e51d0-ea96-42f3-a6d1-2b7f47129bd3",
   "metadata": {},
   "outputs": [
    {
     "name": "stdout",
     "output_type": "stream",
     "text": [
      "Epoch 1/20, Loss: 0.7216, Accuracy: 0.6519\n",
      "Epoch 2/20, Loss: 0.6953, Accuracy: 0.8569\n",
      "Epoch 3/20, Loss: 0.6517, Accuracy: 0.8710\n",
      "Epoch 4/20, Loss: 0.5981, Accuracy: 0.9064\n",
      "Epoch 5/20, Loss: 0.5615, Accuracy: 0.9240\n",
      "Epoch 6/20, Loss: 0.5465, Accuracy: 0.9470\n",
      "Epoch 7/20, Loss: 0.5383, Accuracy: 0.9470\n",
      "Epoch 8/20, Loss: 0.5329, Accuracy: 0.9523\n",
      "Epoch 9/20, Loss: 0.5289, Accuracy: 0.9611\n",
      "Epoch 10/20, Loss: 0.5256, Accuracy: 0.9717\n",
      "Epoch 11/20, Loss: 0.5210, Accuracy: 0.9788\n",
      "Epoch 12/20, Loss: 0.5198, Accuracy: 0.9788\n",
      "Epoch 13/20, Loss: 0.5181, Accuracy: 0.9788\n",
      "Epoch 14/20, Loss: 0.5176, Accuracy: 0.9806\n",
      "Epoch 15/20, Loss: 0.5151, Accuracy: 0.9894\n",
      "Epoch 16/20, Loss: 0.5152, Accuracy: 0.9894\n",
      "Epoch 17/20, Loss: 0.5128, Accuracy: 0.9965\n",
      "Epoch 18/20, Loss: 0.5116, Accuracy: 0.9982\n",
      "Epoch 19/20, Loss: 0.5110, Accuracy: 0.9965\n",
      "Epoch 20/20, Loss: 0.5103, Accuracy: 0.9965\n"
     ]
    }
   ],
   "source": [
    "# Training loop\n",
    "epochs = 20  # Number of epochs to train the model\n",
    "for epoch in range(epochs):\n",
    "    model.train()  # Set the model to training mode\n",
    "    running_loss = 0.0\n",
    "    correct_preds = 0\n",
    "    total_preds = 0\n",
    "    \n",
    "    for batch_features, batch_labels in train_loader:\n",
    "        # Move data to the device (if using GPU, otherwise stays on CPU)\n",
    "        batch_features, batch_labels = batch_features, batch_labels.unsqueeze(1)  # Unsqueeze to match the output shape\n",
    "\n",
    "        # Zero the gradients from the previous step\n",
    "        optimizer.zero_grad()\n",
    "\n",
    "        # Forward pass: Get predictions\n",
    "        outputs = model(batch_features)\n",
    "\n",
    "        # Calculate loss (binary cross-entropy)\n",
    "        loss = criterion(outputs, batch_labels.float())\n",
    "\n",
    "        # Backward pass: Compute gradients\n",
    "        loss.backward()\n",
    "\n",
    "        # Update the model parameters\n",
    "        optimizer.step()\n",
    "\n",
    "        # Track the loss and accuracy\n",
    "        running_loss += loss.item()\n",
    "        predicted = (outputs > 0.5).float()  # Convert probabilities to 0 or 1\n",
    "        correct_preds += (predicted == batch_labels).sum().item()\n",
    "        total_preds += batch_labels.size(0)\n",
    "\n",
    "    # Calculate and print the average loss and accuracy for the epoch\n",
    "    avg_loss = running_loss / len(train_loader)\n",
    "    accuracy = correct_preds / total_preds\n",
    "    print(f'Epoch {epoch+1}/{epochs}, Loss: {avg_loss:.4f}, Accuracy: {accuracy:.4f}')\n"
   ]
  },
  {
   "cell_type": "markdown",
   "id": "1a099a32-9d0e-4bc8-8a9a-5b337137a3fe",
   "metadata": {},
   "source": [
    "**Evaluating the Model**"
   ]
  },
  {
   "cell_type": "code",
   "execution_count": 83,
   "id": "dd3ccdce-b718-489c-aca5-aa0eadcbf251",
   "metadata": {},
   "outputs": [
    {
     "name": "stdout",
     "output_type": "stream",
     "text": [
      "Test Accuracy: 0.9789\n"
     ]
    }
   ],
   "source": [
    "# Evaluation loop\n",
    "model.eval()  # Set the model to evaluation mode\n",
    "correct_preds = 0\n",
    "total_preds = 0\n",
    "\n",
    "with torch.no_grad():  # Disable gradient calculation for evaluation\n",
    "    for batch_features, batch_labels in test_loader:\n",
    "        # Forward pass: Get predictions\n",
    "        outputs = model(batch_features)\n",
    "\n",
    "        # Convert probabilities to 0 or 1\n",
    "        predicted = (outputs > 0.5).float()\n",
    "        \n",
    "        # Calculate accuracy\n",
    "        correct_preds += (predicted == batch_labels.unsqueeze(1)).sum().item()\n",
    "        total_preds += batch_labels.size(0)\n",
    "\n",
    "accuracy = correct_preds / total_preds\n",
    "print(f'Test Accuracy: {accuracy:.4f}')\n"
   ]
  },
  {
   "cell_type": "markdown",
   "id": "09298fcd-8209-4f12-86db-8b9534e3deb7",
   "metadata": {},
   "source": [
    "**MODEL EVALUATION**"
   ]
  },
  {
   "cell_type": "code",
   "execution_count": 85,
   "id": "8f0cf306-a5a6-491b-bf40-c89b5c3c0f22",
   "metadata": {},
   "outputs": [
    {
     "data": {
      "image/png": "[encoded data removed]",
      "text/plain": [
       "<Figure size 800x600 with 1 Axes>"
      ]
     },
     "metadata": {},
     "output_type": "display_data"
    },
    {
     "name": "stdout",
     "output_type": "stream",
     "text": [
      "Accuracy: 0.9789\n",
      "Precision: 0.9722\n",
      "Recall: 0.9859\n",
      "F1 Score: 0.9790\n",
      "ROC AUC: 0.9789\n"
     ]
    }
   ],
   "source": [
    "# Evaluation function\n",
    "def evaluate_model(model, test_loader):\n",
    "    model.eval()  # Set the model to evaluation mode\n",
    "    true_labels = []\n",
    "    predictions = []\n",
    "\n",
    "    with torch.no_grad():  # No need to calculate gradients for evaluation\n",
    "        for batch_features, batch_labels in test_loader:\n",
    "            outputs = model(batch_features)\n",
    "            predicted = (outputs > 0.5).float()  # Convert to binary labels\n",
    "            true_labels.extend(batch_labels.numpy())\n",
    "            predictions.extend(predicted.numpy())\n",
    "\n",
    "    # Convert lists to numpy arrays for metric calculation\n",
    "    true_labels = np.array(true_labels)\n",
    "    predictions = np.array(predictions)\n",
    "\n",
    "    # Calculate accuracy, precision, recall, and F1 score\n",
    "    accuracy = accuracy_score(true_labels, predictions)\n",
    "    precision = precision_score(true_labels, predictions)\n",
    "    recall = recall_score(true_labels, predictions)\n",
    "    f1 = f1_score(true_labels, predictions)\n",
    "\n",
    "    # Calculate ROC curve and AUC score\n",
    "    fpr, tpr, _ = roc_curve(true_labels, predictions)\n",
    "    roc_auc = auc(fpr, tpr)\n",
    "\n",
    "    # Plot the ROC curve\n",
    "    plt.figure(figsize=(8, 6))\n",
    "    plt.plot(fpr, tpr, color='darkorange', lw=2, label=f'ROC curve (AUC = {roc_auc:.2f})')\n",
    "    plt.plot([0, 1], [0, 1], color='navy', lw=2, linestyle='--')\n",
    "    plt.xlim([0.0, 1.0])\n",
    "    plt.ylim([0.0, 1.05])\n",
    "    plt.xlabel('False Positive Rate')\n",
    "    plt.ylabel('True Positive Rate')\n",
    "    plt.title('Receiver Operating Characteristic (ROC) Curve')\n",
    "    plt.legend(loc='lower right')\n",
    "    plt.show()\n",
    "\n",
    "    # Print out the evaluation metrics\n",
    "    print(f'Accuracy: {accuracy:.4f}')\n",
    "    print(f'Precision: {precision:.4f}')\n",
    "    print(f'Recall: {recall:.4f}')\n",
    "    print(f'F1 Score: {f1:.4f}')\n",
    "    print(f'ROC AUC: {roc_auc:.4f}')\n",
    "\n",
    "# Call the evaluate_model function after training\n",
    "evaluate_model(model, test_loader)\n"
   ]
  },
  {
   "cell_type": "markdown",
   "id": "40ae2c7e-e335-4e93-86e7-889f9e791419",
   "metadata": {},
   "source": [
    "**TO PREDICT A STUDENT PASS OR FAIL**"
   ]
  },
  {
   "cell_type": "code",
   "execution_count": 87,
   "id": "b85d48b9-c013-480c-8d55-a573ac01cba4",
   "metadata": {},
   "outputs": [
    {
     "name": "stdout",
     "output_type": "stream",
     "text": [
      "The predicted result for the student is: **Pass**\n"
     ]
    }
   ],
   "source": [
    "# Step 1: Create new student DataFrame\n",
    "new_student = pd.DataFrame([{\n",
    "    'Gender': 'Male',\n",
    "    'Study_Hours_per_Week': 31,\n",
    "    'Attendance_Rate': 68.267841,\n",
    "    'Past_Exam_Scores': 86,\n",
    "    'Parental_Education_Level': 'High School',\n",
    "    'Internet_Access_at_Home': 'Yes',\n",
    "    'Extracurricular_Activities': 'Yes',\n",
    "    'Final_Exam_Score': 63\n",
    "}])\n",
    "\n",
    "# Step 2: Apply the same preprocessing pipeline\n",
    "processed_student = preprocessor.transform(new_student)\n",
    "\n",
    "# Step 3: Convert to tensor\n",
    "student_tensor = torch.tensor(processed_student, dtype=torch.float32)\n",
    "\n",
    "# Step 4: Set model to eval mode and predict\n",
    "model.eval()\n",
    "with torch.no_grad():\n",
    "    output = model(student_tensor)\n",
    "    predicted_label = (output > 0.5).int().item()  # Threshold at 0.5\n",
    "\n",
    "# Step 5: Show result\n",
    "result = \"Pass\" if predicted_label == 1 else \"Fail\"\n",
    "print(f\"The predicted result for the student is: **{result}**\")\n"
   ]
  },
  {
   "cell_type": "code",
   "execution_count": 88,
   "id": "9889f33f-55f8-466e-bcd8-b02372833274",
   "metadata": {},
   "outputs": [
    {
     "name": "stdout",
     "output_type": "stream",
     "text": [
      "The predicted result for Student 2 is: **Fail**\n"
     ]
    }
   ],
   "source": [
    "# New student data\n",
    "new_student2 = pd.DataFrame([{\n",
    "    'Gender': 'Female',\n",
    "    'Study_Hours_per_Week': 21,\n",
    "    'Attendance_Rate': 87.525096,\n",
    "    'Past_Exam_Scores': 74,\n",
    "    'Parental_Education_Level': 'PhD',\n",
    "    'Internet_Access_at_Home': 'Yes',\n",
    "    'Extracurricular_Activities': 'No',\n",
    "    'Final_Exam_Score': 55\n",
    "}])\n",
    "\n",
    "# Apply preprocessing\n",
    "processed_student2 = preprocessor.transform(new_student2)\n",
    "\n",
    "# Convert to tensor\n",
    "student_tensor2 = torch.tensor(processed_student2, dtype=torch.float32)\n",
    "\n",
    "# Predict\n",
    "model.eval()\n",
    "with torch.no_grad():\n",
    "    output2 = model(student_tensor2)\n",
    "    predicted_label2 = (output2 > 0.5).int().item()\n",
    "\n",
    "# Display result\n",
    "result2 = \"Pass\" if predicted_label2 == 1 else \"Fail\"\n",
    "print(f\"The predicted result for Student 2 is: **{result2}**\")\n"
   ]
  },
  {
   "cell_type": "markdown",
   "id": "fd9b0a03-f6fc-456d-881c-e7d37cefad90",
   "metadata": {},
   "source": [
    "**SHAP INTERPRETATION**"
   ]
  },
  {
   "cell_type": "code",
   "execution_count": 166,
   "id": "bcdea097-b310-492e-84bb-7dcbfecd7ff0",
   "metadata": {},
   "outputs": [
    {
     "name": "stdout",
     "output_type": "stream",
     "text": [
      "All feature names after preprocessing:\n",
      "['Gender_Female', 'Gender_Male', 'Parental_Education_Level_Bachelors', 'Parental_Education_Level_High School', 'Parental_Education_Level_Masters', 'Parental_Education_Level_PhD', 'Internet_Access_at_Home_No', 'Internet_Access_at_Home_Yes', 'Extracurricular_Activities_No', 'Extracurricular_Activities_Yes', 'Study_Hours_per_Week', 'Attendance_Rate', 'Past_Exam_Scores', 'Final_Exam_Score']\n"
     ]
    }
   ],
   "source": [
    "# Fitting the preprocessor to the dataset (required before getting feature names)\n",
    "preprocessor.fit(X)\n",
    "\n",
    "# Geting feature names from OneHotEncoder and combine with scaled numeric column names\n",
    "# First, get names from the OneHotEncoder part\n",
    "ohe = preprocessor.named_transformers_['cat']\n",
    "encoded_cat_names = ohe.get_feature_names_out(categorical_cols)\n",
    "\n",
    "# Combining with numeric column names\n",
    "feature_names = list(encoded_cat_names) + numeric_cols\n",
    "\n",
    "print(\"All feature names after preprocessing:\")\n",
    "print(feature_names)\n"
   ]
  },
  {
   "cell_type": "code",
   "execution_count": 168,
   "id": "f8c0f0d0-3555-4146-9367-af9b4e4acb36",
   "metadata": {},
   "outputs": [
    {
     "data": {
      "application/vnd.jupyter.widget-view+json": {
       "model_id": "03ab18d1b60146219d2beee900f68802",
       "version_major": 2,
       "version_minor": 0
      },
      "text/plain": [
       "  0%|          | 0/20 [00:00<?, ?it/s]"
      ]
     },
     "metadata": {},
     "output_type": "display_data"
    },
    {
     "data": {
      "text/plain": [
       "<Figure size 640x480 with 0 Axes>"
      ]
     },
     "metadata": {},
     "output_type": "display_data"
    },
    {
     "data": {
      "image/png": "[encoded data removed]",
      "text/plain": [
       "<Figure size 1150x660 with 1 Axes>"
      ]
     },
     "metadata": {},
     "output_type": "display_data"
    }
   ],
   "source": [
    "import shap\n",
    "import pandas as pd\n",
    "\n",
    "# Using a small sample from the training data for SHAP (to keep it fast)\n",
    "X_sample = torch.tensor(X_test_np[:100], dtype=torch.float32)\n",
    "\n",
    "# Define a prediction function for SHAP\n",
    "def model_predict(data):\n",
    "    model.eval()\n",
    "    data_tensor = torch.tensor(data, dtype=torch.float32)\n",
    "    with torch.no_grad():\n",
    "        outputs = model(data_tensor).numpy()\n",
    "    return outputs\n",
    "\n",
    "# Use SHAP KernelExplainer\n",
    "explainer = shap.KernelExplainer(model_predict, X_sample.numpy())\n",
    "\n",
    "# Explain a few test samples\n",
    "shap_values = explainer.shap_values(X_sample.numpy()[:20])\n",
    "\n",
    "# Plot summary of feature importance\n",
    "shap.summary_plot(shap_values, features=X_sample.numpy()[:20], feature_names=feature_names)\n"
   ]
  }
 ],
 "metadata": {
  "kernelspec": {
   "display_name": "Python [conda env:base] *",
   "language": "python",
   "name": "conda-base-py"
  },
  "language_info": {
   "codemirror_mode": {
    "name": "ipython",
    "version": 3
   },
   "file_extension": ".py",
   "mimetype": "text/x-python",
   "name": "python",
   "nbconvert_exporter": "python",
   "pygments_lexer": "ipython3",
   "version": "3.12.7"
  }
 },
 "nbformat": 4,
 "nbformat_minor": 5
}
